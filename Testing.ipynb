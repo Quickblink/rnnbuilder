{
 "cells": [
  {
   "cell_type": "code",
   "execution_count": 1,
   "outputs": [],
   "source": [
    "from factories import Linear\n",
    "from crazy import Network, Placeholder, Layer\n",
    "import torch"
   ],
   "metadata": {
    "collapsed": false,
    "pycharm": {
     "name": "#%%\n"
    }
   }
  },
  {
   "cell_type": "code",
   "execution_count": 2,
   "outputs": [],
   "source": [
    "m = Network()\n",
    "m.l1 = Layer(m.input, Linear(100))\n",
    "m.l2 = Layer([m.l1, m.input], Linear(100))\n",
    "m.l3 = Placeholder()\n",
    "m.l3_alt = Layer([m.l3, m.l2], Linear(100), placeholder=m.l3)\n",
    "m.output = Layer(m.l3, Linear(100))\n"
   ],
   "metadata": {
    "collapsed": false,
    "pycharm": {
     "name": "#%%\n"
    }
   }
  },
  {
   "cell_type": "code",
   "execution_count": 3,
   "outputs": [],
   "source": [
    "net = m.assemble_module((3,), False)"
   ],
   "metadata": {
    "collapsed": false,
    "pycharm": {
     "name": "#%%\n"
    }
   }
  },
  {
   "cell_type": "code",
   "execution_count": 4,
   "outputs": [
    {
     "data": {
      "text/plain": "{'output': {'l3'}, 'l2': {'input', 'l1'}, 'l1': {'input'}, 'c0': {'l2'}}"
     },
     "execution_count": 4,
     "metadata": {},
     "output_type": "execute_result"
    }
   ],
   "source": [
    "net.inputs"
   ],
   "metadata": {
    "collapsed": false,
    "pycharm": {
     "name": "#%%\n"
    }
   }
  },
  {
   "cell_type": "code",
   "execution_count": 5,
   "outputs": [
    {
     "data": {
      "text/plain": "['l1', 'l2', 'c0', 'output']"
     },
     "execution_count": 5,
     "metadata": {},
     "output_type": "execute_result"
    }
   ],
   "source": [
    "net.order"
   ],
   "metadata": {
    "collapsed": false,
    "pycharm": {
     "name": "#%%\n"
    }
   }
  },
  {
   "cell_type": "code",
   "execution_count": 6,
   "outputs": [
    {
     "data": {
      "text/plain": "{}"
     },
     "execution_count": 6,
     "metadata": {},
     "output_type": "execute_result"
    }
   ],
   "source": [
    "net.placeholders_rev"
   ],
   "metadata": {
    "collapsed": false,
    "pycharm": {
     "name": "#%%\n"
    }
   }
  },
  {
   "cell_type": "code",
   "execution_count": 7,
   "outputs": [
    {
     "data": {
      "text/plain": "{'c0': {'l3'}}"
     },
     "execution_count": 7,
     "metadata": {},
     "output_type": "execute_result"
    }
   ],
   "source": [
    "net.cycle_outputs"
   ],
   "metadata": {
    "collapsed": false,
    "pycharm": {
     "name": "#%%\n"
    }
   }
  },
  {
   "cell_type": "code",
   "execution_count": 8,
   "outputs": [],
   "source": [
    "test_data = torch.zeros((1,1,3))"
   ],
   "metadata": {
    "collapsed": false,
    "pycharm": {
     "name": "#%%\n"
    }
   }
  },
  {
   "cell_type": "code",
   "execution_count": 9,
   "outputs": [
    {
     "data": {
      "text/plain": "(tensor([[[ 0.0511,  0.0379,  0.0554,  0.0792,  0.0857, -0.0357, -0.0090,\n            0.0912,  0.0934, -0.0748, -0.0873, -0.0360,  0.0307,  0.0561,\n           -0.0710,  0.0753, -0.0064,  0.0669, -0.0203,  0.0474, -0.0584,\n           -0.0358,  0.0746, -0.0732, -0.0935,  0.0966, -0.0443,  0.0881,\n            0.0614, -0.0108, -0.0333,  0.0166,  0.0430,  0.0724, -0.0103,\n           -0.0229,  0.0381, -0.0405,  0.0934, -0.0811, -0.0655,  0.0082,\n           -0.0672, -0.0458, -0.0325, -0.0139, -0.0776,  0.0505, -0.0971,\n           -0.0225,  0.0872,  0.0025,  0.0822,  0.0717, -0.0750, -0.0187,\n           -0.0336, -0.0316, -0.0229, -0.0562, -0.0455, -0.0536,  0.0131,\n            0.0134,  0.0197,  0.0098, -0.0601, -0.0245,  0.0801,  0.0967,\n           -0.0331,  0.0317, -0.0283, -0.0311, -0.0844, -0.0945,  0.0440,\n            0.0760, -0.0152, -0.0785,  0.0906,  0.0840,  0.0782, -0.0378,\n           -0.0644, -0.0161,  0.0801,  0.0605,  0.0684,  0.0835, -0.0597,\n            0.0468, -0.0937,  0.0186,  0.0568,  0.0574,  0.0977, -0.0382,\n            0.0523, -0.0936]]], grad_fn=<ViewBackward>),\n ({'l1': (), 'l2': (), 'output': ()}, {}))"
     },
     "execution_count": 9,
     "metadata": {},
     "output_type": "execute_result"
    }
   ],
   "source": [
    "net(test_data, net.get_initial_state(1))"
   ],
   "metadata": {
    "collapsed": false,
    "pycharm": {
     "name": "#%%\n"
    }
   }
  },
  {
   "cell_type": "code",
   "execution_count": 10,
   "outputs": [
    {
     "data": {
      "text/plain": "OuterNetworkModule(\n  (layers): ModuleDict(\n    (c0): NestedNetworkModule(\n      (layers): ModuleDict(\n        (l3_alt): StatelessWrapper(\n          (inner): Linear(in_features=200, out_features=100, bias=True)\n        )\n      )\n    )\n    (output): StatelessWrapper(\n      (inner): Linear(in_features=100, out_features=100, bias=True)\n    )\n    (l2): StatelessWrapper(\n      (inner): Linear(in_features=103, out_features=100, bias=True)\n    )\n    (l1): StatelessWrapper(\n      (inner): Linear(in_features=3, out_features=100, bias=True)\n    )\n  )\n)"
     },
     "execution_count": 10,
     "metadata": {},
     "output_type": "execute_result"
    }
   ],
   "source": [
    "net\n"
   ],
   "metadata": {
    "collapsed": false,
    "pycharm": {
     "name": "#%%\n"
    }
   }
  },
  {
   "cell_type": "code",
   "execution_count": 10,
   "outputs": [],
   "source": [],
   "metadata": {
    "collapsed": false,
    "pycharm": {
     "name": "#%%\n"
    }
   }
  },
  {
   "cell_type": "code",
   "execution_count": 5,
   "outputs": [
    {
     "ename": "SyntaxError",
     "evalue": "invalid syntax (<ipython-input-5-1a49f96e189e>, line 1)",
     "output_type": "error",
     "traceback": [
      "\u001B[0;36m  File \u001B[0;32m\"<ipython-input-5-1a49f96e189e>\"\u001B[0;36m, line \u001B[0;32m1\u001B[0m\n\u001B[0;31m    test_function = lambda shape, **args: (shape, **args)\u001B[0m\n\u001B[0m                                                  ^\u001B[0m\n\u001B[0;31mSyntaxError\u001B[0m\u001B[0;31m:\u001B[0m invalid syntax\n"
     ]
    }
   ],
   "source": [
    "test_function = lambda shape, **args: (shape, **args)\n",
    "\n",
    "test_function(1,a=2,b=3,c=4)"
   ],
   "metadata": {
    "collapsed": false,
    "pycharm": {
     "name": "#%%\n"
    }
   }
  },
  {
   "cell_type": "code",
   "execution_count": 10,
   "outputs": [],
   "source": [],
   "metadata": {
    "collapsed": false,
    "pycharm": {
     "name": "#%%\n"
    }
   }
  },
  {
   "cell_type": "code",
   "execution_count": 12,
   "outputs": [
    {
     "data": {
      "text/plain": "OuterNetworkModule(\n  (layers): ModuleDict(\n    (c0): NestedNetworkModule(\n      (layers): ModuleDict(\n        (l3_alt): StatelessWrapper(\n          (inner): Linear(in_features=200, out_features=100, bias=True)\n        )\n      )\n    )\n    (output): StatelessWrapper(\n      (inner): Linear(in_features=100, out_features=100, bias=True)\n    )\n    (l2): StatelessWrapper(\n      (inner): Linear(in_features=103, out_features=100, bias=True)\n    )\n    (l1): StatelessWrapper(\n      (inner): Linear(in_features=3, out_features=100, bias=True)\n    )\n  )\n)"
     },
     "execution_count": 12,
     "metadata": {},
     "output_type": "execute_result"
    }
   ],
   "source": [],
   "metadata": {
    "collapsed": false,
    "pycharm": {
     "name": "#%%\n"
    }
   }
  },
  {
   "cell_type": "code",
   "execution_count": null,
   "outputs": [],
   "source": [],
   "metadata": {
    "collapsed": false,
    "pycharm": {
     "name": "#%%\n"
    }
   }
  }
 ],
 "metadata": {
  "kernelspec": {
   "display_name": "Python 3",
   "language": "python",
   "name": "python3"
  },
  "language_info": {
   "codemirror_mode": {
    "name": "ipython",
    "version": 2
   },
   "file_extension": ".py",
   "mimetype": "text/x-python",
   "name": "python",
   "nbconvert_exporter": "python",
   "pygments_lexer": "ipython2",
   "version": "2.7.6"
  }
 },
 "nbformat": 4,
 "nbformat_minor": 0
}