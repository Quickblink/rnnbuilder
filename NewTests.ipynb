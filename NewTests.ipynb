{
 "cells": [
  {
   "cell_type": "code",
   "execution_count": 1,
   "metadata": {
    "collapsed": true
   },
   "outputs": [],
   "source": [
    "import torch\n",
    "from torch import nn\n",
    "from mylib import custom"
   ]
  },
  {
   "cell_type": "code",
   "execution_count": 2,
   "outputs": [],
   "source": [
    "class BellecSpike(torch.autograd.Function):\n",
    "\n",
    "    @staticmethod\n",
    "    def forward(ctx, input):\n",
    "        ctx.save_for_backward(input)\n",
    "        return (input > 0).float()\n",
    "\n",
    "    @staticmethod\n",
    "    def backward(ctx, grad_output):\n",
    "        input, = ctx.saved_tensors\n",
    "        return grad_output * torch.max(torch.zeros([1], device=input.device), 1 - torch.abs(input)) * 0.3\n",
    "\n",
    "class NoResetNeuron(custom.CustomModule):\n",
    "    def __init__(self, params):\n",
    "        super().__init__()\n",
    "        self.beta = params['BETA']\n",
    "        if params['1-beta'] == 'improved':\n",
    "            self.factor = (1 - self.beta ** 2) ** (0.5)\n",
    "        elif params['1-beta']:\n",
    "            self.factor = (1-self.beta)\n",
    "        else:\n",
    "            self.factor = 1\n",
    "        self.spike_fn = BellecSpike.apply\n",
    "        self.target_var = 1\n",
    "        self.est_rate = 0.5\n",
    "\n",
    "    def enter_in_shape(self, in_shape):\n",
    "        self.initial_mem = nn.Parameter(torch.zeros(in_shape), requires_grad=True)\n",
    "\n",
    "\n",
    "    def get_initial_state(self, batch_size):\n",
    "        return {\n",
    "            'mem': self.initial_mem.expand([batch_size, self.in_size]),\n",
    "        }\n",
    "\n",
    "    def get_initial_output(self, batch_size):\n",
    "        return self.spike_fn(self.initial_mem.expand([batch_size, self.in_size]) - 1)\n",
    "\n",
    "    def forward(self, x, h):\n",
    "        new_h = {}\n",
    "        new_h['mem'] = self.beta * h['mem'] + self.factor * x\n",
    "        spikes = self.spike_fn(new_h['mem'].refine_names(*x.names) - 1)\n",
    "        #print(x.names, new_h['mem'].names, h['mem'].names, spikes.names)\n",
    "        return spikes, new_h\n",
    "\n",
    "\n",
    "class LIFNeuron(NoResetNeuron):\n",
    "    def __init__(self, params):\n",
    "        super().__init__(params)\n",
    "        self.est_rate = 0.06\n",
    "\n",
    "    def forward(self, x, h):\n",
    "        out, new_h = super().forward(x, h)\n",
    "        new_h['mem'] = new_h['mem'] - out#.detach()#TODO:remove\n",
    "        return out, new_h\n",
    "\n",
    "class DiscontinuousNeuron(nn.Module):\n",
    "    def __init__(self, params):\n",
    "        super().__init__()\n",
    "        self.spike_fn = BellecSpike.apply\n",
    "        self.threshold = params['THRESHOLD']\n",
    "\n",
    "    def forward(self, x):\n",
    "        return self.spike_fn(x-self.threshold)"
   ],
   "metadata": {
    "collapsed": false,
    "pycharm": {
     "name": "#%%\n"
    }
   }
  },
  {
   "cell_type": "code",
   "execution_count": 3,
   "outputs": [],
   "source": [
    "LIF = custom.register_recurrent(module_class=LIFNeuron, prepare_input='flatten', single_step=True, shape_change='none')\n",
    "Linear = custom.register_non_recurrent(module_class=(lambda in_shape, out_size: nn.Linear(in_shape[0], out_size)),\n",
    "                              prepare_input='flatten', shape_change=(lambda in_shape, out_size: (out_size,)))\n",
    "Disc = custom.register_non_recurrent(module_class=DiscontinuousNeuron, prepare_input='flatten', shape_change='none')\n",
    "Conv2d = custom.register_non_recurrent(module_class=nn.Conv2d, prepare_input='keep', shape_change='auto')\n",
    "#do fs_conv with dim changes"
   ],
   "metadata": {
    "collapsed": false,
    "pycharm": {
     "name": "#%%\n"
    }
   }
  },
  {
   "cell_type": "code",
   "execution_count": 4,
   "outputs": [],
   "source": [
    "\n",
    "lif_config = {\n",
    "    'SPIKE_FN' : 'bellec',\n",
    "    'BETA': 0.8,\n",
    "    '1-beta': False,\n",
    "}\n",
    "\n",
    "net = LIF(lif_config)"
   ],
   "metadata": {
    "collapsed": false,
    "pycharm": {
     "name": "#%%\n"
    }
   }
  },
  {
   "cell_type": "code",
   "execution_count": 5,
   "outputs": [
    {
     "data": {
      "text/plain": "OuterModule(\n  (inner): RecurrentWrapper(\n    (inner): LIFNeuron()\n  )\n)"
     },
     "execution_count": 5,
     "metadata": {},
     "output_type": "execute_result"
    }
   ],
   "source": [
    "net.make_model((100,))"
   ],
   "metadata": {
    "collapsed": false,
    "pycharm": {
     "name": "#%%\n"
    }
   }
  },
  {
   "cell_type": "code",
   "execution_count": 5,
   "outputs": [],
   "source": [],
   "metadata": {
    "collapsed": false,
    "pycharm": {
     "name": "#%%\n"
    }
   }
  }
 ],
 "metadata": {
  "kernelspec": {
   "display_name": "Python 3",
   "language": "python",
   "name": "python3"
  },
  "language_info": {
   "codemirror_mode": {
    "name": "ipython",
    "version": 2
   },
   "file_extension": ".py",
   "mimetype": "text/x-python",
   "name": "python",
   "nbconvert_exporter": "python",
   "pygments_lexer": "ipython2",
   "version": "2.7.6"
  }
 },
 "nbformat": 4,
 "nbformat_minor": 0
}