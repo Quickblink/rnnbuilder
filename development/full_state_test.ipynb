{
 "cells": [
  {
   "cell_type": "code",
   "execution_count": 1,
   "metadata": {
    "collapsed": true
   },
   "outputs": [],
   "source": [
    "import sys\n",
    "sys.path.append('../library/src')\n",
    "import rnnbuilder as rb\n",
    "import torch\n",
    "from rnnbuilder import snn, rnn, nn"
   ]
  },
  {
   "cell_type": "code",
   "execution_count": 2,
   "outputs": [],
   "source": [
    "\n",
    "seq = 8\n",
    "batch = 32\n",
    "inp_shape = (1,92,76)\n",
    "example = torch.rand((seq,batch)+inp_shape)\n",
    "FRAME_STACK = 4\n",
    "N_OUT = 3\n",
    "\n",
    "CONV_NEURON = rb.snn.LIF()#rb.nn.ReLU()#rb.snn.Discontinuous()\n",
    "\n",
    "conv_stack = rb.Sequential(\n",
    "    rb.rnn.TempConvPlus2d(out_channels=32, kernel_size=8, stride=4, time_kernel_size=FRAME_STACK), CONV_NEURON,\n",
    "    rb.nn.Conv2d(out_channels=64, kernel_size=4, stride=2), CONV_NEURON,\n",
    "    rb.nn.Conv2d(out_channels=64, kernel_size=3, stride=1), CONV_NEURON)\n",
    "\n",
    "ll_rsnn = rb.Network()\n",
    "ll_rsnn.output = rb.Placeholder()\n",
    "ll_rsnn.output = ll_rsnn.input.stack(ll_rsnn.output).apply(rb.nn.Linear(512), rb.snn.LIF())\n",
    "\n",
    "ll_lstm = rb.rnn.LSTM(512, 2)\n",
    "\n",
    "ll_ffann = rb.Sequential(rb.nn.Linear(512), rb.nn.ReLU())\n",
    "\n",
    "\n",
    "LAST_LAYER = ll_ffann\n",
    "\n",
    "model = rb.Sequential(conv_stack, LAST_LAYER, nn.Linear(N_OUT)).make_model(inp_shape)"
   ],
   "metadata": {
    "collapsed": false,
    "pycharm": {
     "name": "#%%\n"
    }
   }
  },
  {
   "cell_type": "code",
   "execution_count": 3,
   "outputs": [],
   "source": [
    "model.configure(full_state=True)"
   ],
   "metadata": {
    "collapsed": false,
    "pycharm": {
     "name": "#%%\n"
    }
   }
  },
  {
   "cell_type": "code",
   "execution_count": 3,
   "outputs": [],
   "source": [
    "out, h = model(example)"
   ],
   "metadata": {
    "collapsed": false,
    "pycharm": {
     "name": "#%%\n"
    }
   }
  },
  {
   "cell_type": "code",
   "execution_count": 5,
   "outputs": [],
   "source": [
    "\n",
    "state_con = rb.base._utils.StateContainerNew(h)"
   ],
   "metadata": {
    "collapsed": false,
    "pycharm": {
     "name": "#%%\n"
    }
   }
  },
  {
   "cell_type": "code",
   "execution_count": 6,
   "outputs": [
    {
     "data": {
      "text/plain": "[[[],\n  {'mem': torch.Size([8, 32, 12672])},\n  [],\n  {'mem': torch.Size([8, 32, 5120])},\n  [],\n  {'mem': torch.Size([8, 32, 3072])}],\n [[], []],\n []]"
     },
     "execution_count": 6,
     "metadata": {},
     "output_type": "execute_result"
    }
   ],
   "source": [
    "\n",
    "state_con.get(lambda t:t.shape)"
   ],
   "metadata": {
    "collapsed": false,
    "pycharm": {
     "name": "#%%\n"
    }
   }
  },
  {
   "cell_type": "code",
   "execution_count": 7,
   "outputs": [
    {
     "data": {
      "text/plain": "torch.Size([8, 32, 1, 92, 76])"
     },
     "execution_count": 7,
     "metadata": {},
     "output_type": "execute_result"
    }
   ],
   "source": [
    "\n",
    "example.shape"
   ],
   "metadata": {
    "collapsed": false,
    "pycharm": {
     "name": "#%%\n"
    }
   }
  },
  {
   "cell_type": "code",
   "execution_count": 4,
   "outputs": [],
   "source": [
    "\n",
    "out.sum().backward()"
   ],
   "metadata": {
    "collapsed": false,
    "pycharm": {
     "name": "#%%\n"
    }
   }
  },
  {
   "cell_type": "code",
   "execution_count": null,
   "outputs": [],
   "source": [],
   "metadata": {
    "collapsed": false,
    "pycharm": {
     "name": "#%%\n"
    }
   }
  }
 ],
 "metadata": {
  "kernelspec": {
   "display_name": "Python 3",
   "language": "python",
   "name": "python3"
  },
  "language_info": {
   "codemirror_mode": {
    "name": "ipython",
    "version": 2
   },
   "file_extension": ".py",
   "mimetype": "text/x-python",
   "name": "python",
   "nbconvert_exporter": "python",
   "pygments_lexer": "ipython2",
   "version": "2.7.6"
  }
 },
 "nbformat": 4,
 "nbformat_minor": 0
}